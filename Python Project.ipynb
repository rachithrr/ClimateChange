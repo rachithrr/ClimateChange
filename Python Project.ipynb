{
 "cells": [
  {
   "cell_type": "code",
   "execution_count": 2,
   "metadata": {},
   "outputs": [],
   "source": [
    "import sqlite3 as sq\n",
    "import pandas as pd\n",
    "import csv"
   ]
  },
  {
   "cell_type": "code",
   "execution_count": 3,
   "metadata": {},
   "outputs": [],
   "source": [
    "db_file = 'Climate.db'\n",
    "conn = sq.connect(db_file)\n",
    "# conn.close()\n",
    "c=conn.cursor()"
   ]
  },
  {
   "cell_type": "code",
   "execution_count": 4,
   "metadata": {},
   "outputs": [
    {
     "data": {
      "text/plain": [
       "<sqlite3.Cursor at 0x1d0b2affd50>"
      ]
     },
     "execution_count": 4,
     "metadata": {},
     "output_type": "execute_result"
    }
   ],
   "source": [
    "c.execute('drop table COUNTRY')"
   ]
  },
  {
   "cell_type": "code",
   "execution_count": 5,
   "metadata": {},
   "outputs": [],
   "source": [
    "with conn:\n",
    "    create_table='''CREATE TABLE IF NOT EXISTS COUNTRY(DATE date not null, AVG_TEMP real, AVG_TEMP_UNC real, COUNTRY text not null,\n",
    "    primary key(DATE, COUNTRY))'''\n",
    "    c.execute(create_table)\n",
    "# read_country=pd.read_csv('GlobalLandTemperaturesByCountry.csv')\n",
    "with open('GlobalLandTemperaturesByCountry.csv','r') as fin: # `with` statement available in 2.5+\n",
    "    # csv.DictReader uses first line in file for column headings by default\n",
    "    dr = csv.DictReader(fin) # comma is default delimiter\n",
    "    to_db = [(i['dt'], i['AverageTemperature'],i['AverageTemperatureUncertainty'],i['Country']) for i in dr]\n",
    "\n",
    "c.executemany(\"INSERT INTO COUNTRY (DATE, AVG_TEMP,AVG_TEMP_UNC,COUNTRY) VALUES (?, ?,?,?);\", to_db)\n",
    "conn.commit()\n",
    "#conn.close()\n"
   ]
  },
  {
   "cell_type": "code",
   "execution_count": 6,
   "metadata": {},
   "outputs": [
    {
     "data": {
      "text/plain": [
       "<sqlite3.Cursor at 0x1d0b2affd50>"
      ]
     },
     "execution_count": 6,
     "metadata": {},
     "output_type": "execute_result"
    }
   ],
   "source": [
    "c.execute('drop table CITY')"
   ]
  },
  {
   "cell_type": "code",
   "execution_count": 7,
   "metadata": {},
   "outputs": [],
   "source": [
    "create_table='''CREATE TABLE IF NOT EXISTS CITY(DATE date not null,\n",
    "        AVG_TEMP real, \n",
    "        AVG_TEMP_UNC real,\n",
    "        CITY text not null, \n",
    "        COUNTRY text not null,\n",
    "        LATITUDE text,\n",
    "        LONGITUDE text)'''\n",
    "c.execute(create_table)\n",
    "# read_country=pd.read_csv('GlobalLandTemperaturesByCountry.csv')\n",
    "with open('GlobalLandTemperaturesByCity.csv','r',encoding=\"utf8\") as f: # `with` statement available in 2.5+\n",
    "    # csv.DictReader uses first line in file for column headings by default\n",
    "    dat = csv.DictReader(f) # comma is default delimiter\n",
    "    to_db = [(i['dt'], i['AverageTemperature'],i['AverageTemperatureUncertainty'],i['City'],i['Country'],i['Latitude'],i['Longitude']) for i in dat]\n",
    "\n",
    "c.executemany(\"INSERT INTO CITY (DATE, AVG_TEMP,AVG_TEMP_UNC,CITY,COUNTRY,LATITUDE,LONGITUDE) VALUES (?, ?,?,?,?,?,?);\", to_db)\n",
    "conn.commit()\n",
    "#conn.close()"
   ]
  },
  {
   "cell_type": "code",
   "execution_count": null,
   "metadata": {},
   "outputs": [],
   "source": []
  },
  {
   "cell_type": "code",
   "execution_count": 8,
   "metadata": {},
   "outputs": [],
   "source": [
    "create_table='''CREATE TABLE IF NOT EXISTS GLOBAL_TEMP(DATE date not null,\n",
    "        LAND_AVG_TEMP real, \n",
    "        LAND_AVG_TEMP_UNC real,\n",
    "        LAND_MAX_TEMP REAL, \n",
    "        LAND_MAX_UNC REAL,\n",
    "        LAND_MIN_TEMP REAL,\n",
    "        LAND_MIN_UNC REAL,\n",
    "        LAND_OC_TEMP REAL,\n",
    "        LAND_OC_UNC REAL)'''\n",
    "c.execute(create_table)\n",
    "# read_country=pd.read_csv('GlobalLandTemperaturesByCountry.csv')\n",
    "with open('GlobalTemperatures.csv','r') as f: # `with` statement available in 2.5+\n",
    "    # csv.DictReader uses first line in file for column headings by default\n",
    "    dat = csv.DictReader(f) # comma is default delimiter\n",
    "    to_db = [(i['dt'], i['LandAverageTemperature'],i['LandAverageTemperatureUncertainty'],i['LandMaxTemperature'],i['LandMaxTemperatureUncertainty'],i['LandMinTemperature'],i['LandMinTemperatureUncertainty'],i['LandAndOceanAverageTemperature'],i['LandAndOceanAverageTemperatureUncertainty']) for i in dat]\n",
    "\n",
    "c.executemany(\"INSERT INTO GLOBAL_TEMP (DATE,LAND_AVG_TEMP,LAND_AVG_TEMP_UNC,LAND_MAX_TEMP,LAND_MAX_UNC,LAND_MIN_TEMP,LAND_MIN_UNC,LAND_OC_TEMP,LAND_OC_UNC) VALUES (?, ?,?,?,?,?,?,?,?);\", to_db)\n",
    "conn.commit()\n",
    "\n"
   ]
  },
  {
   "cell_type": "code",
   "execution_count": 9,
   "metadata": {},
   "outputs": [
    {
     "data": {
      "text/plain": [
       "<sqlite3.Cursor at 0x1d0b2affd50>"
      ]
     },
     "execution_count": 9,
     "metadata": {},
     "output_type": "execute_result"
    }
   ],
   "source": [
    "c.execute('drop table STATE')"
   ]
  },
  {
   "cell_type": "code",
   "execution_count": 10,
   "metadata": {},
   "outputs": [],
   "source": [
    "create_table='''CREATE TABLE IF NOT EXISTS STATE(DATE date not null,\n",
    "        AVG_TEMP real, \n",
    "        AVG_TEMP_UNC real,\n",
    "        STATE TEXT, \n",
    "        COUNTRY TEXT)'''\n",
    "c.execute(create_table)\n",
    "# read_country=pd.read_csv('GlobalLandTemperaturesByCountry.csv')\n",
    "with open('GlobalLandTemperaturesByState.csv','r') as f: # `with` statement available in 2.5+\n",
    "    # csv.DictReader uses first line in file for column headings by default\n",
    "    dat = csv.DictReader(f) # comma is default delimiter\n",
    "    to_db = [(i['dt'], i['AverageTemperature'],i['AverageTemperatureUncertainty'],i['State'],i['Country']) for i in dat]\n",
    "\n",
    "c.executemany(\"INSERT INTO STATE (DATE,AVG_TEMP,AVG_TEMP_UNC,STATE,COUNTRY) VALUES (?, ?,?,?,?);\", to_db)\n",
    "conn.commit()\n",
    "\n"
   ]
  },
  {
   "cell_type": "code",
   "execution_count": 11,
   "metadata": {},
   "outputs": [],
   "source": [
    "create_table='''CREATE TABLE IF NOT EXISTS MAJOR_CITY(DATE date not null,\n",
    "        AVG_TEMP real, \n",
    "        AVG_TEMP_UNC real,\n",
    "        CITY TEXT, \n",
    "        COUNTRY TEXT,\n",
    "        LATITUDE TEXT,\n",
    "        LONGITUDE TEXT)'''\n",
    "c.execute(create_table)\n",
    "# read_country=pd.read_csv('GlobalLandTemperaturesByCountry.csv')\n",
    "with open('GlobalLandTemperaturesByMajorCity.csv','r') as f: # `with` statement available in 2.5+\n",
    "    # csv.DictReader uses first line in file for column headings by default\n",
    "    dat = csv.DictReader(f) # comma is default delimiter\n",
    "    to_db = [(i['dt'], i['AverageTemperature'],i['AverageTemperatureUncertainty'],i['City'],i['Country'],i['Latitude'],i['Longitude']) for i in dat]\n",
    "\n",
    "c.executemany(\"INSERT INTO MAJOR_CITY (DATE,AVG_TEMP,AVG_TEMP_UNC,CITY,COUNTRY,LATITUDE,LONGITUDE) VALUES (?, ?,?,?,?,?,?);\", to_db)\n",
    "conn.commit()\n"
   ]
  },
  {
   "cell_type": "code",
   "execution_count": null,
   "metadata": {},
   "outputs": [],
   "source": [
    "q= 'select * from MAJOR_CITY LIMIT 5'\n",
    "c.execute(q)\n",
    "    \n",
    "rows = c.fetchall()\n",
    "\n",
    "rows"
   ]
  },
  {
   "cell_type": "code",
   "execution_count": 22,
   "metadata": {},
   "outputs": [
    {
     "data": {
      "text/plain": [
       "[('1743-11-01', 4.3839999999999995, 2.294, 'Ã…land'),\n",
       " ('1743-12-01', '', '', 'Ã…land'),\n",
       " ('1744-01-01', '', '', 'Ã…land'),\n",
       " ('1744-02-01', '', '', 'Ã…land'),\n",
       " ('1744-03-01', '', '', 'Ã…land')]"
      ]
     },
     "execution_count": 22,
     "metadata": {},
     "output_type": "execute_result"
    }
   ],
   "source": [
    "# with conn:\n",
    "#     q= 'select * from COUNTRY LIMIT 5'\n",
    "#     c.execute(q)\n",
    "    \n",
    "#     rows = c.fetchall()\n",
    "\n",
    "# rows"
   ]
  },
  {
   "cell_type": "code",
   "execution_count": null,
   "metadata": {},
   "outputs": [],
   "source": []
  }
 ],
 "metadata": {
  "kernelspec": {
   "display_name": "Python 3",
   "language": "python",
   "name": "python3"
  },
  "language_info": {
   "codemirror_mode": {
    "name": "ipython",
    "version": 3
   },
   "file_extension": ".py",
   "mimetype": "text/x-python",
   "name": "python",
   "nbconvert_exporter": "python",
   "pygments_lexer": "ipython3",
   "version": "3.7.3"
  }
 },
 "nbformat": 4,
 "nbformat_minor": 2
}
